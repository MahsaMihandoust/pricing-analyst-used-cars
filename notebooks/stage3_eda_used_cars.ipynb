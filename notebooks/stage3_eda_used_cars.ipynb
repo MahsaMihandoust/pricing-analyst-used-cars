{
 "cells": [
  {
   "cell_type": "markdown",
   "id": "f3803cad",
   "metadata": {},
   "source": [
    "# 📊 Stage 3: Exploratory Data Analysis (EDA)\n",
    "\n",
    "This notebook explores pricing trends in the used cars dataset to support modeling and pricing strategy development."
   ]
  },
  {
   "cell_type": "code",
   "execution_count": null,
   "id": "1ef790bc",
   "metadata": {},
   "outputs": [],
   "source": [
    "import pandas as pd\n",
    "import matplotlib.pyplot as plt\n",
    "import seaborn as sns\n",
    "\n",
    "# Load the cleaned dataset\n",
    "df = pd.read_csv('/content/used_cars_cleaned.csv')\n",
    "\n",
    "# Set plot styles\n",
    "sns.set(style='whitegrid')\n"
   ]
  },
  {
   "cell_type": "markdown",
   "id": "51c0f16f",
   "metadata": {},
   "source": [
    "## 📋 Dataset Overview"
   ]
  },
  {
   "cell_type": "code",
   "execution_count": null,
   "id": "b73b006c",
   "metadata": {},
   "outputs": [],
   "source": [
    "df.info()\n",
    "df.describe(include='all')"
   ]
  },
  {
   "cell_type": "markdown",
   "id": "f2e7a905",
   "metadata": {},
   "source": [
    "## 🧾 Dataset Summary"
   ]
  },
  {
   "cell_type": "code",
   "execution_count": null,
   "id": "b57e017f",
   "metadata": {},
   "outputs": [],
   "source": [
    "print(f\"Total vehicles: {df.shape[0]}\")\n",
    "print(f\"Unique manufacturers: {df['manufacturer'].nunique()}\")\n",
    "print(f\"Year range: {int(df['year'].min())} - {int(df['year'].max())}\")"
   ]
  },
  {
   "cell_type": "markdown",
   "id": "9d8df5dd",
   "metadata": {},
   "source": [
    "## 📊 Summary Tables"
   ]
  },
  {
   "cell_type": "code",
   "execution_count": null,
   "id": "59e86a62",
   "metadata": {},
   "outputs": [],
   "source": [
    "# Avg price by condition\n",
    "df.groupby('condition')['price'].agg(['count', 'mean', 'median']).sort_values(by='mean', ascending=False)"
   ]
  },
  {
   "cell_type": "code",
   "execution_count": null,
   "id": "50e796cb",
   "metadata": {},
   "outputs": [],
   "source": [
    "# Avg price by manufacturer\n",
    "df.groupby('manufacturer')['price'].agg(['count', 'mean', 'median']).sort_values(by='mean', ascending=False).head(15)"
   ]
  },
  {
   "cell_type": "code",
   "execution_count": null,
   "id": "1708462a",
   "metadata": {},
   "outputs": [],
   "source": [
    "# Avg price by year\n",
    "df.groupby('year')['price'].agg(['count', 'mean', 'median']).sort_index(ascending=False).head(20)"
   ]
  },
  {
   "cell_type": "markdown",
   "id": "550f9240",
   "metadata": {},
   "source": [
    "## 💰 Price Distribution"
   ]
  },
  {
   "cell_type": "code",
   "execution_count": null,
   "id": "a9f03e5f",
   "metadata": {},
   "outputs": [],
   "source": [
    "plt.figure(figsize=(10, 5))\n",
    "sns.histplot(df['price'], bins=50, kde=True)\n",
    "plt.title('Distribution of Vehicle Prices')\n",
    "plt.xlabel('Price (USD)')\n",
    "plt.ylabel('Frequency')\n",
    "plt.show()"
   ]
  },
  {
   "cell_type": "markdown",
   "id": "fcac72c0",
   "metadata": {},
   "source": [
    "## 📉 Odometer Distribution"
   ]
  },
  {
   "cell_type": "code",
   "execution_count": null,
   "id": "5b3ae35e",
   "metadata": {},
   "outputs": [],
   "source": [
    "plt.figure(figsize=(10, 5))\n",
    "sns.histplot(df['odometer'], bins=50, kde=True)\n",
    "plt.title('Distribution of Vehicle Mileage')\n",
    "plt.xlabel('Odometer (Miles)')\n",
    "plt.ylabel('Frequency')\n",
    "plt.show()"
   ]
  },
  {
   "cell_type": "markdown",
   "id": "41128944",
   "metadata": {},
   "source": [
    "## 📈 Price vs. Vehicle Age"
   ]
  },
  {
   "cell_type": "code",
   "execution_count": null,
   "id": "da356540",
   "metadata": {},
   "outputs": [],
   "source": [
    "plt.figure(figsize=(10, 5))\n",
    "sns.scatterplot(x='vehicle_age', y='price', data=df, alpha=0.5)\n",
    "plt.title('Price vs. Vehicle Age')\n",
    "plt.xlabel('Vehicle Age (Years)')\n",
    "plt.ylabel('Price (USD)')\n",
    "plt.show()"
   ]
  },
  {
   "cell_type": "markdown",
   "id": "bf8132d2",
   "metadata": {},
   "source": [
    "## 🏷️ Average Price by Top 10 Manufacturers"
   ]
  },
  {
   "cell_type": "code",
   "execution_count": null,
   "id": "c6d828df",
   "metadata": {},
   "outputs": [],
   "source": [
    "top_makes = df['manufacturer'].value_counts().nlargest(10).index\n",
    "plt.figure(figsize=(12, 6))\n",
    "sns.boxplot(x='manufacturer', y='price', data=df[df['manufacturer'].isin(top_makes)])\n",
    "plt.xticks(rotation=45)\n",
    "plt.title('Price Distribution by Top 10 Manufacturers')\n",
    "plt.xlabel('Manufacturer')\n",
    "plt.ylabel('Price (USD)')\n",
    "plt.show()"
   ]
  },
  {
   "cell_type": "markdown",
   "id": "f5c2c9c7",
   "metadata": {},
   "source": [
    "## 🔧 Price by Condition"
   ]
  },
  {
   "cell_type": "code",
   "execution_count": null,
   "id": "e9279d94",
   "metadata": {},
   "outputs": [],
   "source": [
    "plt.figure(figsize=(10, 6))\n",
    "sns.boxplot(x='condition', y='price', data=df)\n",
    "plt.title('Price Distribution by Condition')\n",
    "plt.xlabel('Condition')\n",
    "plt.ylabel('Price (USD)')\n",
    "plt.show()"
   ]
  },
  {
   "cell_type": "markdown",
   "id": "9db1eef3",
   "metadata": {},
   "source": [
    "## 🔗 Correlation Matrix"
   ]
  },
  {
   "cell_type": "code",
   "execution_count": null,
   "id": "589090fc",
   "metadata": {},
   "outputs": [],
   "source": [
    "plt.figure(figsize=(8, 6))\n",
    "sns.heatmap(df[['price', 'odometer', 'vehicle_age', 'price_per_mile', 'is_clean_title']].corr(), annot=True, cmap='coolwarm')\n",
    "plt.title('Correlation Matrix')\n",
    "plt.show()"
   ]
  }
 ],
 "metadata": {
  "kernelspec": {
   "display_name": "Python 3",
   "name": "python3"
  },
  "language_info": {
   "name": "python"
  }
 },
 "nbformat": 4,
 "nbformat_minor": 5
}