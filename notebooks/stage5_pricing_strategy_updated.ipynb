{
 "cells": [
  {
   "cell_type": "markdown",
   "id": "5857711b",
   "metadata": {},
   "source": [
    "# 💵 Stage 5: Pricing Strategy Development (Updated)\n",
    "\n",
    "This notebook uses Random Forest price predictions to flag underpriced and overpriced listings, apply pricing strategy logic, and categorize vehicles by pricing bands."
   ]
  },
  {
   "cell_type": "code",
   "execution_count": null,
   "id": "0f6e70b2",
   "metadata": {},
   "outputs": [],
   "source": [
    "import pandas as pd\n",
    "import numpy as np\n",
    "import matplotlib.pyplot as plt\n",
    "import seaborn as sns\n",
    "from sklearn.ensemble import RandomForestRegressor\n",
    "from sklearn.model_selection import train_test_split\n",
    "\n",
    "# Load and prepare data\n",
    "df = pd.read_csv('/content/used_cars_cleaned.csv')\n",
    "features = ['odometer', 'vehicle_age', 'is_clean_title', 'manufacturer', 'condition', 'transmission']\n",
    "df = df.dropna(subset=features + ['price'])\n",
    "df['log_price'] = np.log1p(df['price'])\n",
    "\n",
    "# One-hot encode\n",
    "df_encoded = pd.get_dummies(df[features], drop_first=True)\n",
    "X = df_encoded\n",
    "y = df['log_price']\n",
    "\n",
    "# Split and train model\n",
    "X_train, X_test, y_train, y_test = train_test_split(X, y, test_size=0.2, random_state=42)\n",
    "rf = RandomForestRegressor(n_estimators=100, random_state=42)\n",
    "rf.fit(X_train, y_train)\n",
    "\n",
    "# Predict on full dataset\n",
    "df['predicted_log_price'] = rf.predict(X)\n",
    "df['predicted_price'] = np.expm1(df['predicted_log_price'])\n"
   ]
  },
  {
   "cell_type": "markdown",
   "id": "4b065e80",
   "metadata": {},
   "source": [
    "## 🏷️ Pricing Flag: Overpriced / Underpriced / Fair"
   ]
  },
  {
   "cell_type": "code",
   "execution_count": null,
   "id": "d09de2cb",
   "metadata": {},
   "outputs": [],
   "source": [
    "df['price_diff'] = df['price'] - df['predicted_price']\n",
    "df['price_pct_diff'] = 100 * df['price_diff'] / df['predicted_price']\n",
    "\n",
    "def categorize_price(diff):\n",
    "    if diff > 15:\n",
    "        return 'Overpriced'\n",
    "    elif diff < -15:\n",
    "        return 'Underpriced'\n",
    "    else:\n",
    "        return 'Fair'\n",
    "\n",
    "df['pricing_flag'] = df['price_pct_diff'].apply(categorize_price)\n",
    "df['pricing_flag'].value_counts()"
   ]
  },
  {
   "cell_type": "markdown",
   "id": "a410fe2c",
   "metadata": {},
   "source": [
    "## 🪙 Pricing Bands: Budget / Mid-Range / Premium"
   ]
  },
  {
   "cell_type": "code",
   "execution_count": null,
   "id": "2f368f76",
   "metadata": {},
   "outputs": [],
   "source": [
    "def price_band(price):\n",
    "    if price < 10000:\n",
    "        return 'Budget'\n",
    "    elif price < 30000:\n",
    "        return 'Mid-Range'\n",
    "    else:\n",
    "        return 'Premium'\n",
    "\n",
    "df['pricing_band'] = df['price'].apply(price_band)\n",
    "df['pricing_band'].value_counts()"
   ]
  },
  {
   "cell_type": "markdown",
   "id": "6b0bbe56",
   "metadata": {},
   "source": [
    "## 💡 Strategy Logic: 5% Discount for Aged Vehicles (>10 yrs)"
   ]
  },
  {
   "cell_type": "code",
   "execution_count": null,
   "id": "40453983",
   "metadata": {},
   "outputs": [],
   "source": [
    "df['recommended_price'] = df['predicted_price']\n",
    "df.loc[df['vehicle_age'] > 10, 'recommended_price'] *= 0.95\n",
    "df[['vehicle_age', 'predicted_price', 'recommended_price']].head()"
   ]
  },
  {
   "cell_type": "markdown",
   "id": "339ed37f",
   "metadata": {},
   "source": [
    "## 📊 Pricing Flags by Manufacturer"
   ]
  },
  {
   "cell_type": "code",
   "execution_count": null,
   "id": "c31bb1f5",
   "metadata": {},
   "outputs": [],
   "source": [
    "top_makes = df['manufacturer'].value_counts().nlargest(10).index\n",
    "plt.figure(figsize=(12, 6))\n",
    "sns.countplot(data=df[df['manufacturer'].isin(top_makes)], x='manufacturer', hue='pricing_flag')\n",
    "plt.title('Pricing Flag Distribution by Top 10 Manufacturers')\n",
    "plt.xlabel('Manufacturer')\n",
    "plt.ylabel('Vehicle Count')\n",
    "plt.xticks(rotation=45)\n",
    "plt.legend(title='Pricing Flag')\n",
    "plt.tight_layout()\n",
    "plt.show()"
   ]
  }
 ],
 "metadata": {
  "kernelspec": {
   "display_name": "Python 3",
   "name": "python3"
  },
  "language_info": {
   "name": "python"
  }
 },
 "nbformat": 4,
 "nbformat_minor": 5
}