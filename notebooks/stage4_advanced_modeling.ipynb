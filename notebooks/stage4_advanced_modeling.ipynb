{
 "cells": [
  {
   "cell_type": "markdown",
   "id": "a0951510",
   "metadata": {},
   "source": [
    "# 🤖 Stage 4: Advanced Modeling & Forecasting (Updated with Gradient Boosting)\n",
    "\n",
    "Includes:\n",
    "- One-hot encoding\n",
    "- Log-transformed target\n",
    "- Models: Linear, Ridge, Lasso, Random Forest, XGBoost, Gradient Boosting"
   ]
  },
  {
   "cell_type": "code",
   "execution_count": null,
   "id": "745de2cf",
   "metadata": {},
   "outputs": [],
   "source": [
    "import pandas as pd\n",
    "import numpy as np\n",
    "import matplotlib.pyplot as plt\n",
    "import seaborn as sns\n",
    "from sklearn.model_selection import train_test_split\n",
    "from sklearn.linear_model import LinearRegression, Ridge, Lasso\n",
    "from sklearn.ensemble import RandomForestRegressor, GradientBoostingRegressor\n",
    "from sklearn.metrics import mean_squared_error, mean_absolute_error, r2_score\n",
    "from xgboost import XGBRegressor\n",
    "\n",
    "# Load dataset\n",
    "df = pd.read_csv('/content/used_cars_cleaned.csv')\n",
    "\n",
    "# Filter important columns\n",
    "features = ['odometer', 'vehicle_age', 'is_clean_title', 'manufacturer', 'condition', 'transmission']\n",
    "df = df.dropna(subset=features + ['price'])\n",
    "\n",
    "# Log-transform the price (target)\n",
    "df['log_price'] = np.log1p(df['price'])  # log1p avoids log(0)\n"
   ]
  },
  {
   "cell_type": "markdown",
   "id": "46870146",
   "metadata": {},
   "source": [
    "## 🔢 One-Hot Encoding & Split"
   ]
  },
  {
   "cell_type": "code",
   "execution_count": null,
   "id": "74a39a96",
   "metadata": {},
   "outputs": [],
   "source": [
    "df_encoded = pd.get_dummies(df[features], drop_first=True)\n",
    "X = df_encoded\n",
    "y = df['log_price']\n",
    "\n",
    "X_train, X_test, y_train, y_test = train_test_split(X, y, test_size=0.2, random_state=42)"
   ]
  },
  {
   "cell_type": "markdown",
   "id": "caf0a8e9",
   "metadata": {},
   "source": [
    "## 📊 Model Evaluation Function"
   ]
  },
  {
   "cell_type": "code",
   "execution_count": null,
   "id": "09d1fe36",
   "metadata": {},
   "outputs": [],
   "source": [
    "def evaluate_model(model, X_test, y_test, y_pred_log):\n",
    "    y_pred = np.expm1(y_pred_log)  # convert log price back\n",
    "    y_true = np.expm1(y_test)\n",
    "    rmse = mean_squared_error(y_true, y_pred, squared=False)\n",
    "    mae = mean_absolute_error(y_true, y_pred)\n",
    "    r2 = r2_score(y_true, y_pred)\n",
    "    print(f\"RMSE: ${rmse:,.2f}\")\n",
    "    print(f\"MAE: ${mae:,.2f}\")\n",
    "    print(f\"R² Score: {r2:.4f}\")"
   ]
  },
  {
   "cell_type": "markdown",
   "id": "ffd841b3",
   "metadata": {},
   "source": [
    "## 🔍 Linear Regression"
   ]
  },
  {
   "cell_type": "code",
   "execution_count": null,
   "id": "ab2517a3",
   "metadata": {},
   "outputs": [],
   "source": [
    "linear_regression = LinearRegression()\n",
    "linear_regression.fit(X_train, y_train)\n",
    "y_pred = linear_regression.predict(X_test)\n",
    "evaluate_model(linear_regression, X_test, y_test, y_pred)"
   ]
  },
  {
   "cell_type": "markdown",
   "id": "720eb32d",
   "metadata": {},
   "source": [
    "## 🔍 Ridge Regression"
   ]
  },
  {
   "cell_type": "code",
   "execution_count": null,
   "id": "79d5d8c0",
   "metadata": {},
   "outputs": [],
   "source": [
    "ridge_regression = Ridge(alpha=1.0)\n",
    "ridge_regression.fit(X_train, y_train)\n",
    "y_pred = ridge_regression.predict(X_test)\n",
    "evaluate_model(ridge_regression, X_test, y_test, y_pred)"
   ]
  },
  {
   "cell_type": "markdown",
   "id": "c69446da",
   "metadata": {},
   "source": [
    "## 🔍 Lasso Regression"
   ]
  },
  {
   "cell_type": "code",
   "execution_count": null,
   "id": "8473c017",
   "metadata": {},
   "outputs": [],
   "source": [
    "lasso_regression = Lasso(alpha=0.1)\n",
    "lasso_regression.fit(X_train, y_train)\n",
    "y_pred = lasso_regression.predict(X_test)\n",
    "evaluate_model(lasso_regression, X_test, y_test, y_pred)"
   ]
  },
  {
   "cell_type": "markdown",
   "id": "804a2ced",
   "metadata": {},
   "source": [
    "## 🔍 Random Forest"
   ]
  },
  {
   "cell_type": "code",
   "execution_count": null,
   "id": "e92aeea7",
   "metadata": {},
   "outputs": [],
   "source": [
    "random_forest = RandomForestRegressor(n_estimators=100, random_state=42)\n",
    "random_forest.fit(X_train, y_train)\n",
    "y_pred = random_forest.predict(X_test)\n",
    "evaluate_model(random_forest, X_test, y_test, y_pred)"
   ]
  },
  {
   "cell_type": "markdown",
   "id": "47532dc1",
   "metadata": {},
   "source": [
    "## 🔍 XGBoost"
   ]
  },
  {
   "cell_type": "code",
   "execution_count": null,
   "id": "ec737574",
   "metadata": {},
   "outputs": [],
   "source": [
    "xgboost = XGBRegressor(n_estimators=100, learning_rate=0.1, random_state=42)\n",
    "xgboost.fit(X_train, y_train)\n",
    "y_pred = xgboost.predict(X_test)\n",
    "evaluate_model(xgboost, X_test, y_test, y_pred)"
   ]
  },
  {
   "cell_type": "markdown",
   "id": "e4caaa05",
   "metadata": {},
   "source": [
    "## 🔍 Gradient Boosting"
   ]
  },
  {
   "cell_type": "code",
   "execution_count": null,
   "id": "372cd2e4",
   "metadata": {},
   "outputs": [],
   "source": [
    "gradient_boosting = GradientBoostingRegressor(n_estimators=100, learning_rate=0.1, random_state=42)\n",
    "gradient_boosting.fit(X_train, y_train)\n",
    "y_pred = gradient_boosting.predict(X_test)\n",
    "evaluate_model(gradient_boosting, X_test, y_test, y_pred)"
   ]
  }
 ],
 "metadata": {
  "kernelspec": {
   "display_name": "Python 3",
   "name": "python3"
  },
  "language_info": {
   "name": "python"
  }
 },
 "nbformat": 4,
 "nbformat_minor": 5
}