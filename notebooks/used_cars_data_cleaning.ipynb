{
 "cells": [
  {
   "cell_type": "markdown",
   "id": "6f20de64",
   "metadata": {},
   "source": [
    "# 🚗 Used Cars Dataset — Data Cleaning & Preparation (Stage 2)\n",
    "This notebook contains the data cleaning logic tailored for the Craigslist Cars dataset."
   ]
  },
  {
   "cell_type": "code",
   "execution_count": null,
   "id": "a412fc1e",
   "metadata": {},
   "outputs": [],
   "source": [
    "import pandas as pd\n",
    "from datetime import datetime\n",
    "\n",
    "# Load the dataset (adjust path as needed)\n",
    "df = pd.read_csv('/content/craigslist_cars_data/vehicles.csv')\n",
    "\n",
    "# 🔍 Step 1: Drop columns that are useless or 100% missing\n",
    "df.drop(columns=['county'], inplace=True)  # Completely empty\n",
    "\n",
    "# 🔍 Step 2: Drop rows missing critical fields\n",
    "df.dropna(subset=['price', 'year', 'odometer'], inplace=True)\n",
    "\n",
    "# 🧹 Step 3: Clean 'price' and 'odometer' - filter for valid ranges\n",
    "df = df[(df['price'] > 1000) & (df['price'] < 100000)]\n",
    "df = df[(df['odometer'] > 1000) & (df['odometer'] < 300000)]\n",
    "\n",
    "# 🛠️ Step 4: Fill missing values in non-critical categorical columns\n",
    "fill_columns = ['condition', 'cylinders', 'fuel', 'title_status',\n",
    "                'transmission', 'drive', 'size', 'type', 'paint_color']\n",
    "\n",
    "for col in fill_columns:\n",
    "    df[col] = df[col].fillna('unknown')\n",
    "\n",
    "# 🧽 Step 5: Standardize text formatting\n",
    "text_columns = ['condition', 'cylinders', 'fuel', 'title_status', 'transmission',\n",
    "                'drive', 'size', 'type', 'paint_color', 'manufacturer']\n",
    "\n",
    "for col in text_columns:\n",
    "    df[col] = df[col].str.lower().str.strip()\n",
    "\n",
    "# 🧠 Step 6: Feature Engineering\n",
    "# Calculate vehicle age\n",
    "current_year = datetime.now().year\n",
    "df['vehicle_age'] = current_year - df['year']\n",
    "\n",
    "# Create price per mile feature\n",
    "df['price_per_mile'] = df['price'] / df['odometer']\n",
    "\n",
    "# Flag for clean title\n",
    "df['is_clean_title'] = df['title_status'].apply(lambda x: 1 if 'clean' in x else 0)\n",
    "\n",
    "# ✅ Final check\n",
    "print(\"Cleaned Data Summary:\")\n",
    "print(df.info())\n",
    "\n",
    "# 💾 Step 7: Save cleaned dataset\n",
    "df.to_csv('/content/used_cars_cleaned.csv', index=False)"
   ]
  }
 ],
 "metadata": {
  "kernelspec": {
   "display_name": "Python 3",
   "name": "python3"
  },
  "language_info": {
   "name": "python"
  }
 },
 "nbformat": 4,
 "nbformat_minor": 5
}
