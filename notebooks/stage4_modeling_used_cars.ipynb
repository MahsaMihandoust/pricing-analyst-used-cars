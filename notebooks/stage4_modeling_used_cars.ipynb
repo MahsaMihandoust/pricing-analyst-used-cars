{
 "cells": [
  {
   "cell_type": "markdown",
   "id": "474cf05f",
   "metadata": {},
   "source": [
    "# 🤖 Stage 4: Statistical Modeling & Forecasting\n",
    "\n",
    "This notebook builds and evaluates a linear regression model to predict vehicle prices based on key features."
   ]
  },
  {
   "cell_type": "code",
   "execution_count": null,
   "id": "f4a8b50d",
   "metadata": {},
   "outputs": [],
   "source": [
    "import pandas as pd\n",
    "import matplotlib.pyplot as plt\n",
    "import seaborn as sns\n",
    "from sklearn.model_selection import train_test_split\n",
    "from sklearn.linear_model import LinearRegression\n",
    "from sklearn.metrics import mean_squared_error, mean_absolute_error, r2_score\n",
    "import numpy as np\n",
    "\n",
    "# Load the cleaned dataset\n",
    "df = pd.read_csv('/content/used_cars_cleaned.csv')\n",
    "\n",
    "# Drop rows with missing values in target or key features if any\n",
    "df = df.dropna(subset=['price', 'odometer', 'vehicle_age'])\n",
    "\n",
    "# Preview data\n",
    "df[['price', 'odometer', 'vehicle_age', 'manufacturer', 'condition']].head()\n"
   ]
  },
  {
   "cell_type": "markdown",
   "id": "d367207c",
   "metadata": {},
   "source": [
    "## 🧠 Feature Selection & Encoding"
   ]
  },
  {
   "cell_type": "code",
   "execution_count": null,
   "id": "aac0110d",
   "metadata": {},
   "outputs": [],
   "source": [
    "# Select features and target\n",
    "features = ['odometer', 'vehicle_age', 'is_clean_title']\n",
    "X = df[features]\n",
    "y = df['price']\n",
    "\n",
    "# Train-test split\n",
    "X_train, X_test, y_train, y_test = train_test_split(X, y, test_size=0.2, random_state=42)\n"
   ]
  },
  {
   "cell_type": "markdown",
   "id": "f13ece27",
   "metadata": {},
   "source": [
    "## 📈 Linear Regression Model"
   ]
  },
  {
   "cell_type": "code",
   "execution_count": null,
   "id": "a60710e3",
   "metadata": {},
   "outputs": [],
   "source": [
    "# Train model\n",
    "model = LinearRegression()\n",
    "model.fit(X_train, y_train)\n",
    "\n",
    "# Predict\n",
    "y_pred = model.predict(X_test)\n"
   ]
  },
  {
   "cell_type": "markdown",
   "id": "148773a9",
   "metadata": {},
   "source": [
    "## 📊 Model Evaluation"
   ]
  },
  {
   "cell_type": "code",
   "execution_count": null,
   "id": "80b0a4d8",
   "metadata": {},
   "outputs": [],
   "source": [
    "# Metrics\n",
    "rmse = mean_squared_error(y_test, y_pred, squared=False)\n",
    "mae = mean_absolute_error(y_test, y_pred)\n",
    "r2 = r2_score(y_test, y_pred)\n",
    "\n",
    "print(f\"RMSE: ${rmse:,.2f}\")\n",
    "print(f\"MAE: ${mae:,.2f}\")\n",
    "print(f\"R² Score: {r2:.4f}\")\n"
   ]
  },
  {
   "cell_type": "markdown",
   "id": "ab55723c",
   "metadata": {},
   "source": [
    "## 🔍 Predicted vs Actual Price"
   ]
  },
  {
   "cell_type": "code",
   "execution_count": null,
   "id": "08658397",
   "metadata": {},
   "outputs": [],
   "source": [
    "plt.figure(figsize=(8, 6))\n",
    "sns.scatterplot(x=y_test, y=y_pred, alpha=0.3)\n",
    "plt.xlabel(\"Actual Price\")\n",
    "plt.ylabel(\"Predicted Price\")\n",
    "plt.title(\"Predicted vs. Actual Vehicle Prices\")\n",
    "plt.plot([y_test.min(), y_test.max()], [y_test.min(), y_test.max()], '--', color='red')\n",
    "plt.show()"
   ]
  },
  {
   "cell_type": "markdown",
   "id": "82a94812",
   "metadata": {},
   "source": [
    "## 📌 Feature Coefficients"
   ]
  },
  {
   "cell_type": "code",
   "execution_count": null,
   "id": "49dac2b6",
   "metadata": {},
   "outputs": [],
   "source": [
    "coefficients = pd.DataFrame({'Feature': X.columns, 'Coefficient': model.coef_})\n",
    "print(coefficients)"
   ]
  }
 ],
 "metadata": {
  "kernelspec": {
   "display_name": "Python 3",
   "name": "python3"
  },
  "language_info": {
   "name": "python"
  }
 },
 "nbformat": 4,
 "nbformat_minor": 5
}